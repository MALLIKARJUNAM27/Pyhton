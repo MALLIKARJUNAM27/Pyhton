{
 "cells": [
  {
   "cell_type": "code",
   "execution_count": null,
   "metadata": {},
   "outputs": [],
   "source": [
    "print(\"this is sinmple programme\")"
   ]
  },
  {
   "cell_type": "code",
   "execution_count": null,
   "metadata": {},
   "outputs": [],
   "source": [
    "print()"
   ]
  },
  {
   "cell_type": "code",
   "execution_count": null,
   "metadata": {},
   "outputs": [],
   "source": [
    "#Headlines and comments"
   ]
  },
  {
   "cell_type": "code",
   "execution_count": null,
   "metadata": {},
   "outputs": [],
   "source": [
    "Print(\"This is a simple Programme\")\n",
    "print()\n",
    "name = input (\"Please enter your name\")\n",
    "print (\"Hello\", name)"
   ]
  },
  {
   "cell_type": "markdown",
   "metadata": {},
   "source": []
  },
  {
   "cell_type": "code",
   "execution_count": null,
   "metadata": {},
   "outputs": [],
   "source": [
    "spam_amount=0\n",
    "print(spam_amount)\n",
    "spam_amount=spam_amount+10\n",
    "if spam_amount > 0:\n",
    "    print(\"But, I dont want ANY spam!\")\n",
    "    \n",
    "viking_song=\"spam\"*spam_amount\n",
    "print(viking_song)"
   ]
  },
  {
   "cell_type": "code",
   "execution_count": 2,
   "metadata": {},
   "outputs": [
    {
     "name": "stdout",
     "output_type": "stream",
     "text": [
      "Enter a text value: were\n",
      "Enter a number: 123\n"
     ]
    }
   ],
   "source": [
    "text_value =input(\"Enter a text value: \")\n",
    "intvalue = int(input(\"Enter a number: \"))"
   ]
  },
  {
   "cell_type": "code",
   "execution_count": 3,
   "metadata": {},
   "outputs": [],
   "source": [
    "# 001"
   ]
  },
  {
   "cell_type": "code",
   "execution_count": 5,
   "metadata": {},
   "outputs": [
    {
     "name": "stdout",
     "output_type": "stream",
     "text": [
      "please eneter your first name: Mallikarjuna\n",
      "\n",
      "Hello Mallikarjuna\n"
     ]
    }
   ],
   "source": [
    "first_name = input(\"please eneter your first name: \")\n",
    "print ()\n",
    "\n",
    "print (\"Hello\",first_name)"
   ]
  },
  {
   "cell_type": "code",
   "execution_count": 6,
   "metadata": {},
   "outputs": [],
   "source": [
    "# 002"
   ]
  },
  {
   "cell_type": "code",
   "execution_count": 7,
   "metadata": {},
   "outputs": [
    {
     "name": "stdout",
     "output_type": "stream",
     "text": [
      "please eneter your first name: Ravi\n",
      "please enetr your surname: Belagere\n",
      "\n",
      "Hello Ravi Belagere\n"
     ]
    }
   ],
   "source": [
    "first_name = input(\"please eneter your first name: \")\n",
    "Surname = input(\"please enetr your surname: \")\n",
    "print ()\n",
    "\n",
    "print (\"Hello\",first_name,Surname)"
   ]
  },
  {
   "cell_type": "code",
   "execution_count": 1,
   "metadata": {},
   "outputs": [],
   "source": [
    "#003"
   ]
  },
  {
   "cell_type": "code",
   "execution_count": 9,
   "metadata": {},
   "outputs": [
    {
     "name": "stdout",
     "output_type": "stream",
     "text": [
      "what do you call a bear with no teeth \n",
      " A gummy bear\n"
     ]
    }
   ],
   "source": [
    "print (\"what do you call a bear with no teeth \\n A gummy bear\")"
   ]
  },
  {
   "cell_type": "code",
   "execution_count": 13,
   "metadata": {},
   "outputs": [
    {
     "name": "stdout",
     "output_type": "stream",
     "text": [
      "please enter a number: 16.7889\n",
      "please eneter another number: 764.998\n",
      "the total is 781.7869000000001\n"
     ]
    }
   ],
   "source": [
    "num1= float(input (\"please enter a number: \"))\n",
    "num2= float(input(\"please eneter another number: \"))\n",
    "total=num1+num2\n",
    "print(\"the total is\", total)"
   ]
  },
  {
   "cell_type": "code",
   "execution_count": 12,
   "metadata": {},
   "outputs": [
    {
     "data": {
      "text/plain": [
       "float"
      ]
     },
     "execution_count": 12,
     "metadata": {},
     "output_type": "execute_result"
    }
   ],
   "source": [
    "type(7.5)"
   ]
  },
  {
   "cell_type": "markdown",
   "metadata": {},
   "source": [
    "#010"
   ]
  },
  {
   "cell_type": "code",
   "execution_count": 4,
   "metadata": {},
   "outputs": [
    {
     "name": "stdout",
     "output_type": "stream",
     "text": [
      "enter your weight in KG10\n",
      "Your Weight in pound is:  22040.0\n"
     ]
    }
   ],
   "source": [
    "Weight=float(input('enter your weight in KG'))\n",
    "Weight_pounds=Weight*2204\n",
    "print(\"Your Weight in pound is: \",Weight_pounds)"
   ]
  },
  {
   "cell_type": "markdown",
   "metadata": {},
   "source": [
    "#09"
   ]
  },
  {
   "cell_type": "code",
   "execution_count": 11,
   "metadata": {},
   "outputs": [
    {
     "name": "stdout",
     "output_type": "stream",
     "text": [
      "please enter number of days3\n",
      "The day entered by you contains 72.0 hours 4320.0 Seconds\n"
     ]
    }
   ],
   "source": [
    "One_day= float(24)\n",
    "One_min=float(60)\n",
    "Day=int(input(\"please enter number of days\"))\n",
    "print(\"The day entered by you contains\",Day*One_day ,\"hours\", Day*One_day*One_min,\"Seconds\")"
   ]
  },
  {
   "cell_type": "code",
   "execution_count": null,
   "metadata": {},
   "outputs": [],
   "source": []
  }
 ],
 "metadata": {
  "kernelspec": {
   "display_name": "Python 3",
   "language": "python",
   "name": "python3"
  },
  "language_info": {
   "codemirror_mode": {
    "name": "ipython",
    "version": 3
   },
   "file_extension": ".py",
   "mimetype": "text/x-python",
   "name": "python",
   "nbconvert_exporter": "python",
   "pygments_lexer": "ipython3",
   "version": "3.7.3"
  }
 },
 "nbformat": 4,
 "nbformat_minor": 2
}
