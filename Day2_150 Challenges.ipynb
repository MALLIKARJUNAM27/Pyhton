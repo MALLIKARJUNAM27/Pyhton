{
 "cells": [
  {
   "cell_type": "code",
   "execution_count": 1,
   "metadata": {},
   "outputs": [],
   "source": [
    "## If Condition Statements"
   ]
  },
  {
   "cell_type": "code",
   "execution_count": 4,
   "metadata": {},
   "outputs": [
    {
     "name": "stdout",
     "output_type": "stream",
     "text": [
      "enter the number12\n",
      "the number is over 10\n"
     ]
    }
   ],
   "source": [
    "num=int(input(\"enter the number\"))\n",
    "if num>10:\n",
    "    print(\"the number is over 10\")\n",
    "elif num==10:\n",
    "    print(\"number is eqaul to 10\")\n",
    "else:\n",
    "    print(\"number is less than 10\")"
   ]
  },
  {
   "cell_type": "code",
   "execution_count": 1,
   "metadata": {},
   "outputs": [],
   "source": [
    "\n",
    "text=str.lower(\"MALLIKARJUNAM\")\n",
    "\n"
   ]
  },
  {
   "cell_type": "code",
   "execution_count": 19,
   "metadata": {},
   "outputs": [
    {
     "name": "stdout",
     "output_type": "stream",
     "text": [
      "enter the number between 10 and 20  5\n",
      "the number is out of range\n"
     ]
    }
   ],
   "source": [
    "num=int(input(\"enter the number between 10 and 20  \"))\n",
    "if num>=10 and num<=20:\n",
    "    print(\"the number is within the range of 10 and 20\")\n",
    "else:\n",
    "    print(\"the number is out of range\")\n",
    "    "
   ]
  },
  {
   "cell_type": "code",
   "execution_count": 24,
   "metadata": {},
   "outputs": [
    {
     "name": "stdout",
     "output_type": "stream",
     "text": [
      "enter the number 1: 16\n",
      "enter the number 2: 10\n",
      "16 10\n"
     ]
    }
   ],
   "source": [
    "num1=int(input(\"enter the number 1: \"))\n",
    "num2=int(input(\"enter the number 2: \"))\n",
    "if(num1>num2):\n",
    "    print(num1 , num2)\n",
    "elif(num1==num2):\n",
    "    print(num1 , num2)\n",
    "else:\n",
    "    print(num2 , num1)"
   ]
  },
  {
   "cell_type": "code",
   "execution_count": 28,
   "metadata": {},
   "outputs": [
    {
     "name": "stdout",
     "output_type": "stream",
     "text": [
      "enter the number below 20: 25\n",
      "the number is higher\n"
     ]
    }
   ],
   "source": [
    "num=int(input(\"enter the number below 20: \"))\n",
    "if num>=20:\n",
    "    print(\"the number is higher\")\n",
    "else:\n",
    "    print(\"thank you\")"
   ]
  },
  {
   "cell_type": "code",
   "execution_count": 33,
   "metadata": {},
   "outputs": [
    {
     "name": "stdout",
     "output_type": "stream",
     "text": [
      "enter the number between 10 and 20: 20\n",
      "thank you\n"
     ]
    }
   ],
   "source": [
    "num=int(input(\"enter the number between 10 and 20: \"))\n",
    "if num>=10 and num<=20:\n",
    "    print(\"thank you\")\n",
    "else:\n",
    "    print(\"the number is out of range\")"
   ]
  },
  {
   "cell_type": "code",
   "execution_count": 40,
   "metadata": {},
   "outputs": [
    {
     "name": "stdout",
     "output_type": "stream",
     "text": [
      "is it raining: no\n",
      "enjoy your day\n"
     ]
    }
   ],
   "source": [
    "rain=input(\"is it raining: \")\n",
    "rain=str.lower(rain)\n",
    "if rain==\"yes\":\n",
    "    windy=input(\"is it windy?: \")\n",
    "    wndy=str.lower(windy)\n",
    "    if windy==\"yes\":\n",
    "        print(\"it is too windy for and umbrella\")\n",
    "    else:\n",
    "        print(\"take an umbrella\")\n",
    "else:\n",
    "    print(\"enjoy your day\")"
   ]
  },
  {
   "cell_type": "code",
   "execution_count": 43,
   "metadata": {},
   "outputs": [
    {
     "name": "stdout",
     "output_type": "stream",
     "text": [
      "enter your age16\n",
      "you can buy a lottery Ticket\n"
     ]
    }
   ],
   "source": [
    "Age=int(input(\"enter your age\"))\n",
    "if Age>=18:\n",
    "    print(\"you can vote\")\n",
    "elif Age==17:\n",
    "    print(\"you can learn to drive\")\n",
    "elif Age==16:\n",
    "    print(\"you can buy a lottery Ticket\")\n",
    "else:\n",
    "    print(\"you can go to trick\")\n",
    "    \n",
    "        \n",
    "        "
   ]
  },
  {
   "cell_type": "code",
   "execution_count": 10,
   "metadata": {},
   "outputs": [
    {
     "data": {
      "text/plain": [
       "5"
      ]
     },
     "execution_count": 10,
     "metadata": {},
     "output_type": "execute_result"
    }
   ],
   "source": [
    "len(\"Lille\")"
   ]
  },
  {
   "cell_type": "code",
   "execution_count": 11,
   "metadata": {},
   "outputs": [
    {
     "data": {
      "text/plain": [
       "6"
      ]
     },
     "execution_count": 11,
     "metadata": {},
     "output_type": "execute_result"
    }
   ],
   "source": [
    "len(\"Little\")"
   ]
  },
  {
   "cell_type": "code",
   "execution_count": 12,
   "metadata": {},
   "outputs": [
    {
     "ename": "NameError",
     "evalue": "name 'word' is not defined",
     "output_type": "error",
     "traceback": [
      "\u001b[1;31m---------------------------------------------------------------------------\u001b[0m",
      "\u001b[1;31mNameError\u001b[0m                                 Traceback (most recent call last)",
      "\u001b[1;32m<ipython-input-12-802d09344f02>\u001b[0m in \u001b[0;36m<module>\u001b[1;34m\u001b[0m\n\u001b[1;32m----> 1\u001b[1;33m \u001b[0mword\u001b[0m\u001b[1;33m.\u001b[0m\u001b[0mupper\u001b[0m\u001b[1;33m(\u001b[0m\u001b[0mman\u001b[0m\u001b[1;33m)\u001b[0m\u001b[1;33m\u001b[0m\u001b[1;33m\u001b[0m\u001b[0m\n\u001b[0m",
      "\u001b[1;31mNameError\u001b[0m: name 'word' is not defined"
     ]
    }
   ],
   "source": [
    "word.upper(man)"
   ]
  },
  {
   "cell_type": "code",
   "execution_count": null,
   "metadata": {},
   "outputs": [],
   "source": []
  }
 ],
 "metadata": {
  "kernelspec": {
   "display_name": "Python 3",
   "language": "python",
   "name": "python3"
  },
  "language_info": {
   "codemirror_mode": {
    "name": "ipython",
    "version": 3
   },
   "file_extension": ".py",
   "mimetype": "text/x-python",
   "name": "python",
   "nbconvert_exporter": "python",
   "pygments_lexer": "ipython3",
   "version": "3.7.3"
  }
 },
 "nbformat": 4,
 "nbformat_minor": 2
}
